{
 "cells": [
  {
   "cell_type": "code",
   "execution_count": 3,
   "metadata": {},
   "outputs": [],
   "source": [
    "import matplotlib\n",
    "# Standard library packages\n",
    "import io\n",
    "\n",
    "# Import Seaborn for graphics and plotting\n",
    "import seaborn as sns\n",
    "\n",
    "# Import bioservices module, to run remote UniProt queries\n",
    "from bioservices import UniProt\n",
    "\n",
    "# Import Pandas, so we can use dataframes\n",
    "import pandas as pd\n",
    "\n",
    "from Bio import SeqIO\n",
    "\n",
    "\n",
    "# Show plots as part of the notebook\n",
    "%matplotlib inline\n"
   ]
  },
  {
   "cell_type": "code",
   "execution_count": null,
   "metadata": {},
   "outputs": [],
   "source": []
  },
  {
   "cell_type": "markdown",
   "metadata": {},
   "source": [
    "## Connecting to UniProt using bioservices:\n"
   ]
  },
  {
   "cell_type": "code",
   "execution_count": 4,
   "metadata": {},
   "outputs": [],
   "source": [
    "service = UniProt() # it is good practice to have a meaningful variable name\n"
   ]
  },
  {
   "cell_type": "markdown",
   "metadata": {},
   "source": [
    "## Constructing a query:"
   ]
  },
  {
   "cell_type": "code",
   "execution_count": 3,
   "metadata": {},
   "outputs": [],
   "source": [
    "# query = \"Q9AJE3\"  # this query means we want to look in all fields for Q9AJE3\n",
    "# query = \"comment(SUBCELLULAR LOCATION): organism:human reviewed:yes\"\n",
    "membrane_query = \"go:0016020 organism:human reviewed:yes\"\n",
    "\n",
    "secreted_query = \"go:0005576 organism:human reviewed:yes\"\n",
    "\n",
    "cytoplasm_query = \"go:0005737 organism:human reviewed:yes\"\n",
    "\n",
    "\n",
    "# taxonomy:\"Mammalia [40674]\" AND locations:(location:\"Secreted [SL-0243]\") AND reviewed:yes"
   ]
  },
  {
   "cell_type": "markdown",
   "metadata": {},
   "source": [
    "## Performing the query:"
   ]
  },
  {
   "cell_type": "markdown",
   "metadata": {},
   "source": [
    "### Getting results and saving as fasta for Human Secreted proteins:"
   ]
  },
  {
   "cell_type": "code",
   "execution_count": 10,
   "metadata": {},
   "outputs": [],
   "source": [
    "secreted_result = service.search(secreted_query, frmt=\"fasta\")\n",
    "secreted_outfile = 'human_secreted.fasta'\n",
    "with open(secreted_outfile, 'a') as ofh:\n",
    "    ofh.write(secreted_result)"
   ]
  },
  {
   "cell_type": "markdown",
   "metadata": {},
   "source": [
    "### Getting results and saving as fasta for Human Membrane proteins:"
   ]
  },
  {
   "cell_type": "code",
   "execution_count": 11,
   "metadata": {},
   "outputs": [],
   "source": [
    "membrane_result = service.search(membrane_query, frmt=\"fasta\")\n",
    "membrane_outfile = 'human_membrane.fasta'\n",
    "with open(membrane_outfile, 'a') as ofh:\n",
    "    ofh.write(membrane_result)"
   ]
  },
  {
   "cell_type": "markdown",
   "metadata": {},
   "source": [
    "### Getting results and saving as fasta for Human Cytoplasmic proteins:"
   ]
  },
  {
   "cell_type": "code",
   "execution_count": 12,
   "metadata": {},
   "outputs": [],
   "source": [
    "cytoplasm_result = service.search(cytoplasm_query, frmt=\"fasta\")\n",
    "cytoplasm_outfile = 'human_cytoplasm.fasta'\n",
    "with open(cytoplasm_outfile, 'a') as ofh:\n",
    "    ofh.write(cytoplasm_result)"
   ]
  },
  {
   "cell_type": "code",
   "execution_count": null,
   "metadata": {},
   "outputs": [],
   "source": []
  },
  {
   "cell_type": "code",
   "execution_count": null,
   "metadata": {},
   "outputs": [],
   "source": []
  },
  {
   "cell_type": "markdown",
   "metadata": {},
   "source": [
    "# Repeating for bacteria to get more data"
   ]
  },
  {
   "cell_type": "markdown",
   "metadata": {},
   "source": [
    "### bacteria membrane:"
   ]
  },
  {
   "cell_type": "code",
   "execution_count": 5,
   "metadata": {},
   "outputs": [],
   "source": [
    "prokaryote_membrane_query = \"go:0016020 taxonomy:bacteria reviewed:yes\"\n",
    "membrane_result = service.search(prokaryote_membrane_query, frmt=\"fasta\")"
   ]
  },
  {
   "cell_type": "code",
   "execution_count": 6,
   "metadata": {},
   "outputs": [],
   "source": [
    "membrane_outfile = 'bacteria_membrane.fasta'\n",
    "with open(membrane_outfile, 'a') as ofh:\n",
    "    ofh.write(membrane_result)"
   ]
  },
  {
   "cell_type": "markdown",
   "metadata": {},
   "source": [
    "### bacteria membrane:"
   ]
  },
  {
   "cell_type": "code",
   "execution_count": 8,
   "metadata": {},
   "outputs": [],
   "source": [
    "prokaryote_secreted_query = \"go:0005576 taxonomy:bacteria reviewed:yes\"\n",
    "secreted_result = service.search(prokaryote_secreted_query, frmt=\"fasta\")"
   ]
  },
  {
   "cell_type": "code",
   "execution_count": 9,
   "metadata": {},
   "outputs": [],
   "source": [
    "secreted_outfile = 'bacteria_secreted.fasta'\n",
    "with open(secreted_outfile, 'a') as ofh:\n",
    "    ofh.write(secreted_result)"
   ]
  },
  {
   "cell_type": "markdown",
   "metadata": {},
   "source": [
    "### bacteria membrane:"
   ]
  },
  {
   "cell_type": "code",
   "execution_count": 10,
   "metadata": {},
   "outputs": [],
   "source": [
    "prokaryote_cytoplasm_query = \"go:0005737 taxonomy:bacteria reviewed:yes\"\n",
    "cytoplasm_result = service.search(prokaryote_cytoplasm_query, frmt=\"fasta\")"
   ]
  },
  {
   "cell_type": "code",
   "execution_count": 11,
   "metadata": {},
   "outputs": [],
   "source": [
    "cytoplasm_outfile = 'bacteria_cytoplasm.fasta'\n",
    "with open(cytoplasm_outfile, 'a') as ofh:\n",
    "    ofh.write(cytoplasm_result)"
   ]
  },
  {
   "cell_type": "code",
   "execution_count": null,
   "metadata": {},
   "outputs": [],
   "source": []
  },
  {
   "cell_type": "markdown",
   "metadata": {},
   "source": [
    "# Repeating for all mammals to get more data"
   ]
  },
  {
   "cell_type": "markdown",
   "metadata": {},
   "source": [
    "### mammal membrane:"
   ]
  },
  {
   "cell_type": "code",
   "execution_count": 12,
   "metadata": {},
   "outputs": [],
   "source": [
    "mammal_membrane_query = \"go:0016020 taxonomy:mammalia reviewed:yes\"\n",
    "membrane_result = service.search(mammal_membrane_query, frmt=\"fasta\")"
   ]
  },
  {
   "cell_type": "code",
   "execution_count": 13,
   "metadata": {},
   "outputs": [],
   "source": [
    "membrane_outfile = 'mammal_membrane.fasta'\n",
    "with open(membrane_outfile, 'a') as ofh:\n",
    "    ofh.write(membrane_result)"
   ]
  },
  {
   "cell_type": "markdown",
   "metadata": {},
   "source": [
    "### mammal membrane:"
   ]
  },
  {
   "cell_type": "code",
   "execution_count": 14,
   "metadata": {},
   "outputs": [],
   "source": [
    "mammal_secreted_query = \"go:0005576 taxonomy:mammalia reviewed:yes\"\n",
    "secreted_result = service.search(mammal_secreted_query, frmt=\"fasta\")"
   ]
  },
  {
   "cell_type": "code",
   "execution_count": 15,
   "metadata": {},
   "outputs": [],
   "source": [
    "secreted_outfile = 'mammal_secreted.fasta'\n",
    "with open(secreted_outfile, 'a') as ofh:\n",
    "    ofh.write(secreted_result)"
   ]
  },
  {
   "cell_type": "markdown",
   "metadata": {},
   "source": [
    "### mammal membrane:"
   ]
  },
  {
   "cell_type": "code",
   "execution_count": 16,
   "metadata": {},
   "outputs": [],
   "source": [
    "mammal_cytoplasm_query = \"go:0005737 taxonomy:mammalia reviewed:yes\"\n",
    "cytoplasm_result = service.search(mammal_cytoplasm_query, frmt=\"fasta\")"
   ]
  },
  {
   "cell_type": "code",
   "execution_count": 17,
   "metadata": {},
   "outputs": [],
   "source": [
    "cytoplasm_outfile = 'mammal_cytoplasm.fasta'\n",
    "with open(cytoplasm_outfile, 'a') as ofh:\n",
    "    ofh.write(cytoplasm_result)"
   ]
  },
  {
   "cell_type": "code",
   "execution_count": null,
   "metadata": {},
   "outputs": [],
   "source": []
  },
  {
   "cell_type": "markdown",
   "metadata": {},
   "source": [
    "# Repeating for yeast to get more data"
   ]
  },
  {
   "cell_type": "markdown",
   "metadata": {},
   "source": [
    "### yeast membrane:"
   ]
  },
  {
   "cell_type": "code",
   "execution_count": 18,
   "metadata": {},
   "outputs": [],
   "source": [
    "yeast_membrane_query = \"go:0016020 taxonomy:saccharomyceta reviewed:yes\"\n",
    "membrane_result = service.search(yeast_membrane_query, frmt=\"fasta\")"
   ]
  },
  {
   "cell_type": "code",
   "execution_count": 19,
   "metadata": {},
   "outputs": [],
   "source": [
    "membrane_outfile = 'yeast_membrane.fasta'\n",
    "with open(membrane_outfile, 'a') as ofh:\n",
    "    ofh.write(membrane_result)"
   ]
  },
  {
   "cell_type": "markdown",
   "metadata": {},
   "source": [
    "### yeast membrane:"
   ]
  },
  {
   "cell_type": "code",
   "execution_count": 20,
   "metadata": {},
   "outputs": [],
   "source": [
    "yeast_secreted_query = \"go:0005576 taxonomy:saccharomyceta reviewed:yes\"\n",
    "secreted_result = service.search(yeast_secreted_query, frmt=\"fasta\")"
   ]
  },
  {
   "cell_type": "code",
   "execution_count": 21,
   "metadata": {},
   "outputs": [],
   "source": [
    "secreted_outfile = 'yeast_secreted.fasta'\n",
    "with open(secreted_outfile, 'a') as ofh:\n",
    "    ofh.write(secreted_result)"
   ]
  },
  {
   "cell_type": "markdown",
   "metadata": {},
   "source": [
    "### yeast membrane:"
   ]
  },
  {
   "cell_type": "code",
   "execution_count": 22,
   "metadata": {},
   "outputs": [],
   "source": [
    "yeast_cytoplasm_query = \"go:0005737 taxonomy:saccharomyceta reviewed:yes\"\n",
    "cytoplasm_result = service.search(yeast_cytoplasm_query, frmt=\"fasta\")"
   ]
  },
  {
   "cell_type": "code",
   "execution_count": 23,
   "metadata": {},
   "outputs": [],
   "source": [
    "cytoplasm_outfile = 'yeast_cytoplasm.fasta'\n",
    "with open(cytoplasm_outfile, 'a') as ofh:\n",
    "    ofh.write(cytoplasm_result)"
   ]
  },
  {
   "cell_type": "code",
   "execution_count": null,
   "metadata": {},
   "outputs": [],
   "source": []
  },
  {
   "cell_type": "code",
   "execution_count": null,
   "metadata": {},
   "outputs": [],
   "source": []
  }
 ],
 "metadata": {
  "kernelspec": {
   "display_name": "Python 3",
   "language": "python",
   "name": "python3"
  },
  "language_info": {
   "codemirror_mode": {
    "name": "ipython",
    "version": 3
   },
   "file_extension": ".py",
   "mimetype": "text/x-python",
   "name": "python",
   "nbconvert_exporter": "python",
   "pygments_lexer": "ipython3",
   "version": "3.8.5"
  }
 },
 "nbformat": 4,
 "nbformat_minor": 4
}
