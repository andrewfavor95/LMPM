{
 "cells": [
  {
   "cell_type": "code",
   "execution_count": 1,
   "metadata": {},
   "outputs": [],
   "source": [
    "import matplotlib\n",
    "# Standard library packages\n",
    "import io\n",
    "\n",
    "# Import Seaborn for graphics and plotting\n",
    "import seaborn as sns\n",
    "\n",
    "# Import bioservices module, to run remote UniProt queries\n",
    "from bioservices import UniProt\n",
    "\n",
    "# Import Pandas, so we can use dataframes\n",
    "import pandas as pd\n",
    "\n",
    "from Bio import SeqIO\n",
    "\n",
    "\n",
    "# Show plots as part of the notebook\n",
    "%matplotlib inline\n"
   ]
  },
  {
   "cell_type": "code",
   "execution_count": null,
   "metadata": {},
   "outputs": [],
   "source": []
  },
  {
   "cell_type": "markdown",
   "metadata": {},
   "source": [
    "## Connecting to UniProt using bioservices:\n"
   ]
  },
  {
   "cell_type": "code",
   "execution_count": 2,
   "metadata": {},
   "outputs": [],
   "source": [
    "service = UniProt() # it is good practice to have a meaningful variable name\n"
   ]
  },
  {
   "cell_type": "markdown",
   "metadata": {},
   "source": [
    "## Constructing a query:"
   ]
  },
  {
   "cell_type": "code",
   "execution_count": 3,
   "metadata": {},
   "outputs": [],
   "source": [
    "# query = \"Q9AJE3\"  # this query means we want to look in all fields for Q9AJE3\n",
    "# query = \"comment(SUBCELLULAR LOCATION): organism:human reviewed:yes\"\n",
    "membrane_query = \"go:0016020 organism:human reviewed:yes\"\n",
    "\n",
    "secreted_query = \"go:0005576 organism:human reviewed:yes\"\n",
    "\n",
    "cytoplasm_query = \"go:0005737 organism:human reviewed:yes\"\n",
    "\n",
    "\n",
    "# taxonomy:\"Mammalia [40674]\" AND locations:(location:\"Secreted [SL-0243]\") AND reviewed:yes"
   ]
  },
  {
   "cell_type": "markdown",
   "metadata": {},
   "source": [
    "## Performing the query:"
   ]
  },
  {
   "cell_type": "markdown",
   "metadata": {},
   "source": [
    "### Getting results and saving as fasta for Human Secreted proteins:"
   ]
  },
  {
   "cell_type": "code",
   "execution_count": 10,
   "metadata": {},
   "outputs": [],
   "source": [
    "secreted_result = service.search(secreted_query, frmt=\"fasta\")\n",
    "secreted_outfile = 'human_secreted.fasta'\n",
    "with open(secreted_outfile, 'a') as ofh:\n",
    "    ofh.write(secreted_result)"
   ]
  },
  {
   "cell_type": "markdown",
   "metadata": {},
   "source": [
    "### Getting results and saving as fasta for Human Membrane proteins:"
   ]
  },
  {
   "cell_type": "code",
   "execution_count": 11,
   "metadata": {},
   "outputs": [],
   "source": [
    "membrane_result = service.search(membrane_query, frmt=\"fasta\")\n",
    "membrane_outfile = 'human_membrane.fasta'\n",
    "with open(membrane_outfile, 'a') as ofh:\n",
    "    ofh.write(membrane_result)"
   ]
  },
  {
   "cell_type": "markdown",
   "metadata": {},
   "source": [
    "### Getting results and saving as fasta for Human Cytoplasmic proteins:"
   ]
  },
  {
   "cell_type": "code",
   "execution_count": 12,
   "metadata": {},
   "outputs": [],
   "source": [
    "cytoplasm_result = service.search(cytoplasm_query, frmt=\"fasta\")\n",
    "cytoplasm_outfile = 'human_cytoplasm.fasta'\n",
    "with open(cytoplasm_outfile, 'a') as ofh:\n",
    "    ofh.write(cytoplasm_result)"
   ]
  },
  {
   "cell_type": "code",
   "execution_count": null,
   "metadata": {},
   "outputs": [],
   "source": []
  }
 ],
 "metadata": {
  "kernelspec": {
   "display_name": "Python 3",
   "language": "python",
   "name": "python3"
  },
  "language_info": {
   "codemirror_mode": {
    "name": "ipython",
    "version": 3
   },
   "file_extension": ".py",
   "mimetype": "text/x-python",
   "name": "python",
   "nbconvert_exporter": "python",
   "pygments_lexer": "ipython3",
   "version": "3.7.8"
  }
 },
 "nbformat": 4,
 "nbformat_minor": 4
}
